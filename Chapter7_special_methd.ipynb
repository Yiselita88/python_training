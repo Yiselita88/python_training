{
 "cells": [
  {
   "cell_type": "code",
   "execution_count": 3,
   "id": "1b2acf77",
   "metadata": {},
   "outputs": [],
   "source": [
    "# Class chapter: Special Methods (Implementation)"
   ]
  },
  {
   "cell_type": "code",
   "execution_count": 20,
   "id": "cf83a1a5",
   "metadata": {},
   "outputs": [],
   "source": [
    "class Polynomial:\n",
    "    def __init__(self, coefficients):\n",
    "        self.coeff = coefficients"
   ]
  },
  {
   "cell_type": "code",
   "execution_count": 21,
   "id": "5c71a37c",
   "metadata": {},
   "outputs": [],
   "source": [
    "    def __call__(self, x):\n",
    "        s = 0\n",
    "        for i in range(len(self.coeff)):\n",
    "            s += self.coeff[i]*x**i\n",
    "        return s"
   ]
  },
  {
   "cell_type": "code",
   "execution_count": 22,
   "id": "f0f27821",
   "metadata": {},
   "outputs": [],
   "source": [
    "    def __add__(self, other):\n",
    "        # start with the longest list and add in the other:\n",
    "        if len(self.coeff) > len(other.coeff):\n",
    "            sum_coeff = self.coeff[:] #copy!\n",
    "            for i in range(len(other.coeff)):\n",
    "                sum_coeff[i] += other.coeff[i]\n",
    "        else:\n",
    "            sum_coeff = other.coeff[:] #copy!\n",
    "            for i in range(len(self.coeff)):\n",
    "                sum_coeff[i] += self.coeff[i]\n",
    "        return Polynomial(sum_coeff)"
   ]
  },
  {
   "cell_type": "code",
   "execution_count": 23,
   "id": "fabc1a15",
   "metadata": {},
   "outputs": [],
   "source": [
    "    def __mul__(self, other):\n",
    "        c = self.coeff\n",
    "        d = other.coeff\n",
    "        M = len(c) -1\n",
    "        N = len(d) -1\n",
    "        result_coeff = zeros(M+N-1)\n",
    "        for i in range(0, M+1): \n",
    "            for j in range(0, N+1):\n",
    "                result_coeff[i+j] += c[i]*d[j]\n",
    "        return Polynomial(result_coeff)"
   ]
  },
  {
   "cell_type": "code",
   "execution_count": 24,
   "id": "45307819",
   "metadata": {},
   "outputs": [],
   "source": [
    "    def differentiate(self):\n",
    "        \"\"\"Differentiate this polynomial in-place\"\"\"\n",
    "        for i in range(1, len(self.coeff)):\n",
    "            self.coeff[i-j] = i *self.coeff[i]\n",
    "        del self.coeff[-1]"
   ]
  },
  {
   "cell_type": "code",
   "execution_count": 25,
   "id": "e6869bb3",
   "metadata": {},
   "outputs": [],
   "source": [
    "    def derivative(self):\n",
    "        \"\"\"Copy this polynomial and return its derivative\"\"\"\n",
    "        dpdx = Polynomial(self.coeff[:]) # make a copy\n",
    "        dpdx.differentiate()\n",
    "        return dpdx"
   ]
  },
  {
   "cell_type": "code",
   "execution_count": 26,
   "id": "632ef3b5",
   "metadata": {},
   "outputs": [],
   "source": [
    "p1 = Polynomial([1, -1])"
   ]
  },
  {
   "cell_type": "code",
   "execution_count": 27,
   "id": "40aa0f5d",
   "metadata": {},
   "outputs": [
    {
     "name": "stdout",
     "output_type": "stream",
     "text": [
      "<__main__.Polynomial object at 0x000001B6A732A7D0>\n"
     ]
    }
   ],
   "source": [
    "print(p1)"
   ]
  },
  {
   "cell_type": "code",
   "execution_count": 28,
   "id": "013d0a48",
   "metadata": {},
   "outputs": [
    {
     "name": "stdout",
     "output_type": "stream",
     "text": [
      "<__main__.Polynomial object at 0x000001B6A7A30690>\n"
     ]
    }
   ],
   "source": [
    "p2 = Polynomial([0, 1, 0, 0, -6, -1]) \n",
    "print(p2)"
   ]
  },
  {
   "cell_type": "code",
   "execution_count": null,
   "id": "ad413bbf",
   "metadata": {},
   "outputs": [],
   "source": []
  },
  {
   "cell_type": "code",
   "execution_count": null,
   "id": "732297fc",
   "metadata": {},
   "outputs": [],
   "source": []
  },
  {
   "cell_type": "code",
   "execution_count": null,
   "id": "78f5f535",
   "metadata": {},
   "outputs": [],
   "source": []
  }
 ],
 "metadata": {
  "kernelspec": {
   "display_name": "Python 3 (ipykernel)",
   "language": "python",
   "name": "python3"
  },
  "language_info": {
   "codemirror_mode": {
    "name": "ipython",
    "version": 3
   },
   "file_extension": ".py",
   "mimetype": "text/x-python",
   "name": "python",
   "nbconvert_exporter": "python",
   "pygments_lexer": "ipython3",
   "version": "3.11.5"
  }
 },
 "nbformat": 4,
 "nbformat_minor": 5
}
